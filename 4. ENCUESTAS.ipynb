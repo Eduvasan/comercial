{
 "cells": [
  {
   "cell_type": "code",
   "execution_count": 0,
   "metadata": {
    "application/vnd.databricks.v1+cell": {
     "cellMetadata": {
      "byteLimit": 2048000,
      "implicitDf": true,
      "rowLimit": 10000
     },
     "inputWidgets": {},
     "nuid": "18d214fa-d0de-4031-baca-c7bc47bfd701",
     "showTitle": false,
     "tableResultSettingsMap": {},
     "title": ""
    }
   },
   "outputs": [
    {
     "output_type": "display_data",
     "data": {
      "text/html": [
       "<style scoped>\n",
       "  .table-result-container {\n",
       "    max-height: 300px;\n",
       "    overflow: auto;\n",
       "  }\n",
       "  table, th, td {\n",
       "    border: 1px solid black;\n",
       "    border-collapse: collapse;\n",
       "  }\n",
       "  th, td {\n",
       "    padding: 5px;\n",
       "  }\n",
       "  th {\n",
       "    text-align: left;\n",
       "  }\n",
       "</style><div class='table-result-container'><table class='table-result'><thead style='background-color: white'><tr><th>registro</th><th>fecha</th><th>session</th><th>hora</th><th>secuencia</th><th>codigo_anterior_30</th><th>mensaje_anterior_30</th><th>codigo_anterior_29</th><th>mensaje_anterior_29</th><th>codigo_anterior_28</th><th>mensaje_anterior_28</th><th>codigo_anterior_27</th><th>mensaje_anterior_27</th><th>codigo_anterior_26</th><th>mensaje_anterior_26</th><th>codigo_anterior_25</th><th>mensaje_anterior_25</th><th>codigo_anterior_24</th><th>mensaje_anterior_24</th><th>codigo_anterior_23</th><th>mensaje_anterior_23</th><th>codigo_anterior_22</th><th>mensaje_anterior_22</th><th>codigo_anterior_21</th><th>mensaje_anterior_21</th><th>codigo_anterior_20</th><th>mensaje_anterior_20</th><th>codigo_anterior_19</th><th>mensaje_anterior_19</th><th>codigo_anterior_18</th><th>mensaje_anterior_18</th><th>codigo_anterior_17</th><th>mensaje_anterior_17</th><th>codigo_anterior_16</th><th>mensaje_anterior_16</th><th>codigo_anterior_15</th><th>mensaje_anterior_15</th><th>codigo_anterior_14</th><th>mensaje_anterior_14</th><th>codigo_anterior_13</th><th>mensaje_anterior_13</th><th>codigo_anterior_12</th><th>mensaje_anterior_12</th><th>codigo_anterior_11</th><th>mensaje_anterior_11</th><th>codigo_anterior_10</th><th>mensaje_anterior_10</th><th>codigo_anterior_9</th><th>mensaje_anterior_9</th><th>codigo_anterior_8</th><th>mensaje_anterior_8</th><th>codigo_anterior_7</th><th>mensaje_anterior_7</th><th>codigo_anterior_6</th><th>mensaje_anterior_6</th><th>codigo_anterior_5</th><th>mensaje_anterior_5</th><th>codigo_anterior_4</th><th>mensaje_anterior_4</th><th>codigo_anterior_3</th><th>mensaje_anterior_3</th><th>codigo_anterior_2</th><th>mensaje_anterior_2</th><th>codigo_anterior_1</th><th>mensaje_anterior_1</th><th>codigo_respuesta</th><th>pregunta_respuesta</th><th>codigo_posterior_1</th><th>mensaje_posterior_1</th><th>codigo_posterior_2</th><th>mensaje_posterior_2</th><th>codigo_posterior_3</th><th>mensaje_posterior_3</th><th>codigo_posterior_4</th><th>mensaje_posterior_4</th><th>codigo_posterior_5</th><th>mensaje_posterior_5</th><th>codigo_posterior_6</th><th>mensaje_posterior_6</th><th>CODE</th><th>FLUJO</th><th>SUB_FLUJO</th><th>TEMA</th><th>RESPUESTA</th><th>REPORTE</th><th>OPINION</th><th>TIPO_CLIENTE</th><th>week</th><th>row_insert_date</th><th>row_update_date</th><th>year</th><th>month</th><th>day</th></tr></thead><tbody></tbody></table></div>"
      ]
     },
     "metadata": {
      "application/vnd.databricks.v1+output": {
       "addedWidgets": {},
       "aggData": [],
       "aggError": "",
       "aggOverflow": false,
       "aggSchema": [],
       "aggSeriesLimitReached": false,
       "aggType": "",
       "arguments": {},
       "columnCustomDisplayInfos": {},
       "data": [],
       "datasetInfos": [],
       "dbfsResultPath": null,
       "isJsonSchema": true,
       "metadata": {
        "dataframeName": "_sqldf",
        "executionCount": 2
       },
       "overflow": false,
       "plotOptions": {
        "customPlotOptions": {},
        "displayType": "table",
        "pivotAggregation": null,
        "pivotColumns": null,
        "xColumns": null,
        "yColumns": null
       },
       "removedWidgets": [],
       "schema": [
        {
         "metadata": "{}",
         "name": "registro",
         "type": "\"long\""
        },
        {
         "metadata": "{}",
         "name": "fecha",
         "type": "\"string\""
        },
        {
         "metadata": "{}",
         "name": "session",
         "type": "\"string\""
        },
        {
         "metadata": "{}",
         "name": "hora",
         "type": "\"string\""
        },
        {
         "metadata": "{}",
         "name": "secuencia",
         "type": "\"integer\""
        },
        {
         "metadata": "{}",
         "name": "codigo_anterior_30",
         "type": "\"string\""
        },
        {
         "metadata": "{}",
         "name": "mensaje_anterior_30",
         "type": "\"string\""
        },
        {
         "metadata": "{}",
         "name": "codigo_anterior_29",
         "type": "\"string\""
        },
        {
         "metadata": "{}",
         "name": "mensaje_anterior_29",
         "type": "\"string\""
        },
        {
         "metadata": "{}",
         "name": "codigo_anterior_28",
         "type": "\"string\""
        },
        {
         "metadata": "{}",
         "name": "mensaje_anterior_28",
         "type": "\"string\""
        },
        {
         "metadata": "{}",
         "name": "codigo_anterior_27",
         "type": "\"string\""
        },
        {
         "metadata": "{}",
         "name": "mensaje_anterior_27",
         "type": "\"string\""
        },
        {
         "metadata": "{}",
         "name": "codigo_anterior_26",
         "type": "\"string\""
        },
        {
         "metadata": "{}",
         "name": "mensaje_anterior_26",
         "type": "\"string\""
        },
        {
         "metadata": "{}",
         "name": "codigo_anterior_25",
         "type": "\"string\""
        },
        {
         "metadata": "{}",
         "name": "mensaje_anterior_25",
         "type": "\"string\""
        },
        {
         "metadata": "{}",
         "name": "codigo_anterior_24",
         "type": "\"string\""
        },
        {
         "metadata": "{}",
         "name": "mensaje_anterior_24",
         "type": "\"string\""
        },
        {
         "metadata": "{}",
         "name": "codigo_anterior_23",
         "type": "\"string\""
        },
        {
         "metadata": "{}",
         "name": "mensaje_anterior_23",
         "type": "\"string\""
        },
        {
         "metadata": "{}",
         "name": "codigo_anterior_22",
         "type": "\"string\""
        },
        {
         "metadata": "{}",
         "name": "mensaje_anterior_22",
         "type": "\"string\""
        },
        {
         "metadata": "{}",
         "name": "codigo_anterior_21",
         "type": "\"string\""
        },
        {
         "metadata": "{}",
         "name": "mensaje_anterior_21",
         "type": "\"string\""
        },
        {
         "metadata": "{}",
         "name": "codigo_anterior_20",
         "type": "\"string\""
        },
        {
         "metadata": "{}",
         "name": "mensaje_anterior_20",
         "type": "\"string\""
        },
        {
         "metadata": "{}",
         "name": "codigo_anterior_19",
         "type": "\"string\""
        },
        {
         "metadata": "{}",
         "name": "mensaje_anterior_19",
         "type": "\"string\""
        },
        {
         "metadata": "{}",
         "name": "codigo_anterior_18",
         "type": "\"string\""
        },
        {
         "metadata": "{}",
         "name": "mensaje_anterior_18",
         "type": "\"string\""
        },
        {
         "metadata": "{}",
         "name": "codigo_anterior_17",
         "type": "\"string\""
        },
        {
         "metadata": "{}",
         "name": "mensaje_anterior_17",
         "type": "\"string\""
        },
        {
         "metadata": "{}",
         "name": "codigo_anterior_16",
         "type": "\"string\""
        },
        {
         "metadata": "{}",
         "name": "mensaje_anterior_16",
         "type": "\"string\""
        },
        {
         "metadata": "{}",
         "name": "codigo_anterior_15",
         "type": "\"string\""
        },
        {
         "metadata": "{}",
         "name": "mensaje_anterior_15",
         "type": "\"string\""
        },
        {
         "metadata": "{}",
         "name": "codigo_anterior_14",
         "type": "\"string\""
        },
        {
         "metadata": "{}",
         "name": "mensaje_anterior_14",
         "type": "\"string\""
        },
        {
         "metadata": "{}",
         "name": "codigo_anterior_13",
         "type": "\"string\""
        },
        {
         "metadata": "{}",
         "name": "mensaje_anterior_13",
         "type": "\"string\""
        },
        {
         "metadata": "{}",
         "name": "codigo_anterior_12",
         "type": "\"string\""
        },
        {
         "metadata": "{}",
         "name": "mensaje_anterior_12",
         "type": "\"string\""
        },
        {
         "metadata": "{}",
         "name": "codigo_anterior_11",
         "type": "\"string\""
        },
        {
         "metadata": "{}",
         "name": "mensaje_anterior_11",
         "type": "\"string\""
        },
        {
         "metadata": "{}",
         "name": "codigo_anterior_10",
         "type": "\"string\""
        },
        {
         "metadata": "{}",
         "name": "mensaje_anterior_10",
         "type": "\"string\""
        },
        {
         "metadata": "{}",
         "name": "codigo_anterior_9",
         "type": "\"string\""
        },
        {
         "metadata": "{}",
         "name": "mensaje_anterior_9",
         "type": "\"string\""
        },
        {
         "metadata": "{}",
         "name": "codigo_anterior_8",
         "type": "\"string\""
        },
        {
         "metadata": "{}",
         "name": "mensaje_anterior_8",
         "type": "\"string\""
        },
        {
         "metadata": "{}",
         "name": "codigo_anterior_7",
         "type": "\"string\""
        },
        {
         "metadata": "{}",
         "name": "mensaje_anterior_7",
         "type": "\"string\""
        },
        {
         "metadata": "{}",
         "name": "codigo_anterior_6",
         "type": "\"string\""
        },
        {
         "metadata": "{}",
         "name": "mensaje_anterior_6",
         "type": "\"string\""
        },
        {
         "metadata": "{}",
         "name": "codigo_anterior_5",
         "type": "\"string\""
        },
        {
         "metadata": "{}",
         "name": "mensaje_anterior_5",
         "type": "\"string\""
        },
        {
         "metadata": "{}",
         "name": "codigo_anterior_4",
         "type": "\"string\""
        },
        {
         "metadata": "{}",
         "name": "mensaje_anterior_4",
         "type": "\"string\""
        },
        {
         "metadata": "{}",
         "name": "codigo_anterior_3",
         "type": "\"string\""
        },
        {
         "metadata": "{}",
         "name": "mensaje_anterior_3",
         "type": "\"string\""
        },
        {
         "metadata": "{}",
         "name": "codigo_anterior_2",
         "type": "\"string\""
        },
        {
         "metadata": "{}",
         "name": "mensaje_anterior_2",
         "type": "\"string\""
        },
        {
         "metadata": "{}",
         "name": "codigo_anterior_1",
         "type": "\"string\""
        },
        {
         "metadata": "{}",
         "name": "mensaje_anterior_1",
         "type": "\"string\""
        },
        {
         "metadata": "{}",
         "name": "codigo_respuesta",
         "type": "\"string\""
        },
        {
         "metadata": "{}",
         "name": "pregunta_respuesta",
         "type": "\"string\""
        },
        {
         "metadata": "{}",
         "name": "codigo_posterior_1",
         "type": "\"string\""
        },
        {
         "metadata": "{}",
         "name": "mensaje_posterior_1",
         "type": "\"string\""
        },
        {
         "metadata": "{}",
         "name": "codigo_posterior_2",
         "type": "\"string\""
        },
        {
         "metadata": "{}",
         "name": "mensaje_posterior_2",
         "type": "\"string\""
        },
        {
         "metadata": "{}",
         "name": "codigo_posterior_3",
         "type": "\"string\""
        },
        {
         "metadata": "{}",
         "name": "mensaje_posterior_3",
         "type": "\"string\""
        },
        {
         "metadata": "{}",
         "name": "codigo_posterior_4",
         "type": "\"string\""
        },
        {
         "metadata": "{}",
         "name": "mensaje_posterior_4",
         "type": "\"string\""
        },
        {
         "metadata": "{}",
         "name": "codigo_posterior_5",
         "type": "\"string\""
        },
        {
         "metadata": "{}",
         "name": "mensaje_posterior_5",
         "type": "\"string\""
        },
        {
         "metadata": "{}",
         "name": "codigo_posterior_6",
         "type": "\"string\""
        },
        {
         "metadata": "{}",
         "name": "mensaje_posterior_6",
         "type": "\"string\""
        },
        {
         "metadata": "{}",
         "name": "CODE",
         "type": "\"string\""
        },
        {
         "metadata": "{}",
         "name": "FLUJO",
         "type": "\"string\""
        },
        {
         "metadata": "{}",
         "name": "SUB_FLUJO",
         "type": "\"string\""
        },
        {
         "metadata": "{}",
         "name": "TEMA",
         "type": "\"string\""
        },
        {
         "metadata": "{}",
         "name": "RESPUESTA",
         "type": "\"string\""
        },
        {
         "metadata": "{}",
         "name": "REPORTE",
         "type": "\"string\""
        },
        {
         "metadata": "{}",
         "name": "OPINION",
         "type": "\"string\""
        },
        {
         "metadata": "{}",
         "name": "TIPO_CLIENTE",
         "type": "\"string\""
        },
        {
         "metadata": "{}",
         "name": "week",
         "type": "\"string\""
        },
        {
         "metadata": "{}",
         "name": "row_insert_date",
         "type": "\"timestamp\""
        },
        {
         "metadata": "{}",
         "name": "row_update_date",
         "type": "\"timestamp\""
        },
        {
         "metadata": "{}",
         "name": "year",
         "type": "\"integer\""
        },
        {
         "metadata": "{}",
         "name": "month",
         "type": "\"integer\""
        },
        {
         "metadata": "{}",
         "name": "day",
         "type": "\"integer\""
        }
       ],
       "type": "table"
      }
     },
     "output_type": "display_data"
    }
   ],
   "source": [
    "%sql\n",
    "REFRESH TABLE avireportscomercial.encuestas;\n",
    "select * from avireportscomercial.encuestas\n",
    "where FLUJO = '' and year = 2024 and month in (4,5,6,7)\n"
   ]
  },
  {
   "cell_type": "code",
   "execution_count": 0,
   "metadata": {
    "application/vnd.databricks.v1+cell": {
     "cellMetadata": {
      "byteLimit": 2048000,
      "implicitDf": true,
      "rowLimit": 10000
     },
     "inputWidgets": {},
     "nuid": "a9b35bbf-f7fa-4595-8216-6a12d9f9eb84",
     "showTitle": false,
     "tableResultSettingsMap": {},
     "title": ""
    }
   },
   "outputs": [
    {
     "output_type": "display_data",
     "data": {
      "text/html": [
       "<style scoped>\n",
       "  .table-result-container {\n",
       "    max-height: 300px;\n",
       "    overflow: auto;\n",
       "  }\n",
       "  table, th, td {\n",
       "    border: 1px solid black;\n",
       "    border-collapse: collapse;\n",
       "  }\n",
       "  th, td {\n",
       "    padding: 5px;\n",
       "  }\n",
       "  th {\n",
       "    text-align: left;\n",
       "  }\n",
       "</style><div class='table-result-container'><table class='table-result'><thead style='background-color: white'><tr><th>registro</th><th>fecha</th><th>session</th><th>hora</th><th>secuencia</th><th>codigo_anterior_30</th><th>mensaje_anterior_30</th><th>codigo_anterior_29</th><th>mensaje_anterior_29</th><th>codigo_anterior_28</th><th>mensaje_anterior_28</th><th>codigo_anterior_27</th><th>mensaje_anterior_27</th><th>codigo_anterior_26</th><th>mensaje_anterior_26</th><th>codigo_anterior_25</th><th>mensaje_anterior_25</th><th>codigo_anterior_24</th><th>mensaje_anterior_24</th><th>codigo_anterior_23</th><th>mensaje_anterior_23</th><th>codigo_anterior_22</th><th>mensaje_anterior_22</th><th>codigo_anterior_21</th><th>mensaje_anterior_21</th><th>codigo_anterior_20</th><th>mensaje_anterior_20</th><th>codigo_anterior_19</th><th>mensaje_anterior_19</th><th>codigo_anterior_18</th><th>mensaje_anterior_18</th><th>codigo_anterior_17</th><th>mensaje_anterior_17</th><th>codigo_anterior_16</th><th>mensaje_anterior_16</th><th>codigo_anterior_15</th><th>mensaje_anterior_15</th><th>codigo_anterior_14</th><th>mensaje_anterior_14</th><th>codigo_anterior_13</th><th>mensaje_anterior_13</th><th>codigo_anterior_12</th><th>mensaje_anterior_12</th><th>codigo_anterior_11</th><th>mensaje_anterior_11</th><th>codigo_anterior_10</th><th>mensaje_anterior_10</th><th>codigo_anterior_9</th><th>mensaje_anterior_9</th><th>codigo_anterior_8</th><th>mensaje_anterior_8</th><th>codigo_anterior_7</th><th>mensaje_anterior_7</th><th>codigo_anterior_6</th><th>mensaje_anterior_6</th><th>codigo_anterior_5</th><th>mensaje_anterior_5</th><th>codigo_anterior_4</th><th>mensaje_anterior_4</th><th>codigo_anterior_3</th><th>mensaje_anterior_3</th><th>codigo_anterior_2</th><th>mensaje_anterior_2</th><th>codigo_anterior_1</th><th>mensaje_anterior_1</th><th>codigo_respuesta</th><th>pregunta_respuesta</th><th>codigo_posterior_1</th><th>mensaje_posterior_1</th><th>codigo_posterior_2</th><th>mensaje_posterior_2</th><th>codigo_posterior_3</th><th>mensaje_posterior_3</th><th>codigo_posterior_4</th><th>mensaje_posterior_4</th><th>codigo_posterior_5</th><th>mensaje_posterior_5</th><th>codigo_posterior_6</th><th>mensaje_posterior_6</th><th>CODE</th><th>FLUJO</th><th>SUB_FLUJO</th><th>TEMA</th><th>RESPUESTA</th><th>REPORTE</th><th>OPINION</th><th>TIPO_CLIENTE</th><th>week</th><th>row_insert_date</th><th>row_update_date</th><th>year</th><th>month</th><th>day</th></tr></thead><tbody></tbody></table></div>"
      ]
     },
     "metadata": {
      "application/vnd.databricks.v1+output": {
       "addedWidgets": {},
       "aggData": [],
       "aggError": "",
       "aggOverflow": false,
       "aggSchema": [],
       "aggSeriesLimitReached": false,
       "aggType": "",
       "arguments": {},
       "columnCustomDisplayInfos": {},
       "data": [],
       "datasetInfos": [],
       "dbfsResultPath": null,
       "isJsonSchema": true,
       "metadata": {
        "dataframeName": "_sqldf",
        "executionCount": 1
       },
       "overflow": false,
       "plotOptions": {
        "customPlotOptions": {},
        "displayType": "table",
        "pivotAggregation": null,
        "pivotColumns": null,
        "xColumns": null,
        "yColumns": null
       },
       "removedWidgets": [],
       "schema": [
        {
         "metadata": "{}",
         "name": "registro",
         "type": "\"long\""
        },
        {
         "metadata": "{}",
         "name": "fecha",
         "type": "\"string\""
        },
        {
         "metadata": "{}",
         "name": "session",
         "type": "\"string\""
        },
        {
         "metadata": "{}",
         "name": "hora",
         "type": "\"string\""
        },
        {
         "metadata": "{}",
         "name": "secuencia",
         "type": "\"integer\""
        },
        {
         "metadata": "{}",
         "name": "codigo_anterior_30",
         "type": "\"string\""
        },
        {
         "metadata": "{}",
         "name": "mensaje_anterior_30",
         "type": "\"string\""
        },
        {
         "metadata": "{}",
         "name": "codigo_anterior_29",
         "type": "\"string\""
        },
        {
         "metadata": "{}",
         "name": "mensaje_anterior_29",
         "type": "\"string\""
        },
        {
         "metadata": "{}",
         "name": "codigo_anterior_28",
         "type": "\"string\""
        },
        {
         "metadata": "{}",
         "name": "mensaje_anterior_28",
         "type": "\"string\""
        },
        {
         "metadata": "{}",
         "name": "codigo_anterior_27",
         "type": "\"string\""
        },
        {
         "metadata": "{}",
         "name": "mensaje_anterior_27",
         "type": "\"string\""
        },
        {
         "metadata": "{}",
         "name": "codigo_anterior_26",
         "type": "\"string\""
        },
        {
         "metadata": "{}",
         "name": "mensaje_anterior_26",
         "type": "\"string\""
        },
        {
         "metadata": "{}",
         "name": "codigo_anterior_25",
         "type": "\"string\""
        },
        {
         "metadata": "{}",
         "name": "mensaje_anterior_25",
         "type": "\"string\""
        },
        {
         "metadata": "{}",
         "name": "codigo_anterior_24",
         "type": "\"string\""
        },
        {
         "metadata": "{}",
         "name": "mensaje_anterior_24",
         "type": "\"string\""
        },
        {
         "metadata": "{}",
         "name": "codigo_anterior_23",
         "type": "\"string\""
        },
        {
         "metadata": "{}",
         "name": "mensaje_anterior_23",
         "type": "\"string\""
        },
        {
         "metadata": "{}",
         "name": "codigo_anterior_22",
         "type": "\"string\""
        },
        {
         "metadata": "{}",
         "name": "mensaje_anterior_22",
         "type": "\"string\""
        },
        {
         "metadata": "{}",
         "name": "codigo_anterior_21",
         "type": "\"string\""
        },
        {
         "metadata": "{}",
         "name": "mensaje_anterior_21",
         "type": "\"string\""
        },
        {
         "metadata": "{}",
         "name": "codigo_anterior_20",
         "type": "\"string\""
        },
        {
         "metadata": "{}",
         "name": "mensaje_anterior_20",
         "type": "\"string\""
        },
        {
         "metadata": "{}",
         "name": "codigo_anterior_19",
         "type": "\"string\""
        },
        {
         "metadata": "{}",
         "name": "mensaje_anterior_19",
         "type": "\"string\""
        },
        {
         "metadata": "{}",
         "name": "codigo_anterior_18",
         "type": "\"string\""
        },
        {
         "metadata": "{}",
         "name": "mensaje_anterior_18",
         "type": "\"string\""
        },
        {
         "metadata": "{}",
         "name": "codigo_anterior_17",
         "type": "\"string\""
        },
        {
         "metadata": "{}",
         "name": "mensaje_anterior_17",
         "type": "\"string\""
        },
        {
         "metadata": "{}",
         "name": "codigo_anterior_16",
         "type": "\"string\""
        },
        {
         "metadata": "{}",
         "name": "mensaje_anterior_16",
         "type": "\"string\""
        },
        {
         "metadata": "{}",
         "name": "codigo_anterior_15",
         "type": "\"string\""
        },
        {
         "metadata": "{}",
         "name": "mensaje_anterior_15",
         "type": "\"string\""
        },
        {
         "metadata": "{}",
         "name": "codigo_anterior_14",
         "type": "\"string\""
        },
        {
         "metadata": "{}",
         "name": "mensaje_anterior_14",
         "type": "\"string\""
        },
        {
         "metadata": "{}",
         "name": "codigo_anterior_13",
         "type": "\"string\""
        },
        {
         "metadata": "{}",
         "name": "mensaje_anterior_13",
         "type": "\"string\""
        },
        {
         "metadata": "{}",
         "name": "codigo_anterior_12",
         "type": "\"string\""
        },
        {
         "metadata": "{}",
         "name": "mensaje_anterior_12",
         "type": "\"string\""
        },
        {
         "metadata": "{}",
         "name": "codigo_anterior_11",
         "type": "\"string\""
        },
        {
         "metadata": "{}",
         "name": "mensaje_anterior_11",
         "type": "\"string\""
        },
        {
         "metadata": "{}",
         "name": "codigo_anterior_10",
         "type": "\"string\""
        },
        {
         "metadata": "{}",
         "name": "mensaje_anterior_10",
         "type": "\"string\""
        },
        {
         "metadata": "{}",
         "name": "codigo_anterior_9",
         "type": "\"string\""
        },
        {
         "metadata": "{}",
         "name": "mensaje_anterior_9",
         "type": "\"string\""
        },
        {
         "metadata": "{}",
         "name": "codigo_anterior_8",
         "type": "\"string\""
        },
        {
         "metadata": "{}",
         "name": "mensaje_anterior_8",
         "type": "\"string\""
        },
        {
         "metadata": "{}",
         "name": "codigo_anterior_7",
         "type": "\"string\""
        },
        {
         "metadata": "{}",
         "name": "mensaje_anterior_7",
         "type": "\"string\""
        },
        {
         "metadata": "{}",
         "name": "codigo_anterior_6",
         "type": "\"string\""
        },
        {
         "metadata": "{}",
         "name": "mensaje_anterior_6",
         "type": "\"string\""
        },
        {
         "metadata": "{}",
         "name": "codigo_anterior_5",
         "type": "\"string\""
        },
        {
         "metadata": "{}",
         "name": "mensaje_anterior_5",
         "type": "\"string\""
        },
        {
         "metadata": "{}",
         "name": "codigo_anterior_4",
         "type": "\"string\""
        },
        {
         "metadata": "{}",
         "name": "mensaje_anterior_4",
         "type": "\"string\""
        },
        {
         "metadata": "{}",
         "name": "codigo_anterior_3",
         "type": "\"string\""
        },
        {
         "metadata": "{}",
         "name": "mensaje_anterior_3",
         "type": "\"string\""
        },
        {
         "metadata": "{}",
         "name": "codigo_anterior_2",
         "type": "\"string\""
        },
        {
         "metadata": "{}",
         "name": "mensaje_anterior_2",
         "type": "\"string\""
        },
        {
         "metadata": "{}",
         "name": "codigo_anterior_1",
         "type": "\"string\""
        },
        {
         "metadata": "{}",
         "name": "mensaje_anterior_1",
         "type": "\"string\""
        },
        {
         "metadata": "{}",
         "name": "codigo_respuesta",
         "type": "\"string\""
        },
        {
         "metadata": "{}",
         "name": "pregunta_respuesta",
         "type": "\"string\""
        },
        {
         "metadata": "{}",
         "name": "codigo_posterior_1",
         "type": "\"string\""
        },
        {
         "metadata": "{}",
         "name": "mensaje_posterior_1",
         "type": "\"string\""
        },
        {
         "metadata": "{}",
         "name": "codigo_posterior_2",
         "type": "\"string\""
        },
        {
         "metadata": "{}",
         "name": "mensaje_posterior_2",
         "type": "\"string\""
        },
        {
         "metadata": "{}",
         "name": "codigo_posterior_3",
         "type": "\"string\""
        },
        {
         "metadata": "{}",
         "name": "mensaje_posterior_3",
         "type": "\"string\""
        },
        {
         "metadata": "{}",
         "name": "codigo_posterior_4",
         "type": "\"string\""
        },
        {
         "metadata": "{}",
         "name": "mensaje_posterior_4",
         "type": "\"string\""
        },
        {
         "metadata": "{}",
         "name": "codigo_posterior_5",
         "type": "\"string\""
        },
        {
         "metadata": "{}",
         "name": "mensaje_posterior_5",
         "type": "\"string\""
        },
        {
         "metadata": "{}",
         "name": "codigo_posterior_6",
         "type": "\"string\""
        },
        {
         "metadata": "{}",
         "name": "mensaje_posterior_6",
         "type": "\"string\""
        },
        {
         "metadata": "{}",
         "name": "CODE",
         "type": "\"string\""
        },
        {
         "metadata": "{}",
         "name": "FLUJO",
         "type": "\"string\""
        },
        {
         "metadata": "{}",
         "name": "SUB_FLUJO",
         "type": "\"string\""
        },
        {
         "metadata": "{}",
         "name": "TEMA",
         "type": "\"string\""
        },
        {
         "metadata": "{}",
         "name": "RESPUESTA",
         "type": "\"string\""
        },
        {
         "metadata": "{}",
         "name": "REPORTE",
         "type": "\"string\""
        },
        {
         "metadata": "{}",
         "name": "OPINION",
         "type": "\"string\""
        },
        {
         "metadata": "{}",
         "name": "TIPO_CLIENTE",
         "type": "\"string\""
        },
        {
         "metadata": "{}",
         "name": "week",
         "type": "\"string\""
        },
        {
         "metadata": "{}",
         "name": "row_insert_date",
         "type": "\"timestamp\""
        },
        {
         "metadata": "{}",
         "name": "row_update_date",
         "type": "\"timestamp\""
        },
        {
         "metadata": "{}",
         "name": "year",
         "type": "\"integer\""
        },
        {
         "metadata": "{}",
         "name": "month",
         "type": "\"integer\""
        },
        {
         "metadata": "{}",
         "name": "day",
         "type": "\"integer\""
        }
       ],
       "type": "table"
      }
     },
     "output_type": "display_data"
    }
   ],
   "source": [
    "%sql\n",
    "REFRESH TABLE avireportscomercial.encuestas;\n",
    "select * from avireportscomercial.encuestas\n",
    "where year = 2024 and month in (7,8)\n",
    "order by fecha\n"
   ]
  }
 ],
 "metadata": {
  "application/vnd.databricks.v1+notebook": {
   "dashboards": [],
   "environmentMetadata": null,
   "language": "python",
   "notebookMetadata": {
    "mostRecentlyExecutedCommandWithImplicitDF": {
     "commandId": 3088624087141255,
     "dataframes": [
      "_sqldf"
     ]
    },
    "pythonIndentUnit": 2
   },
   "notebookName": "4. ENCUESTAS",
   "widgets": {}
  },
  "language_info": {
   "name": "python"
  }
 },
 "nbformat": 4,
 "nbformat_minor": 0
}
