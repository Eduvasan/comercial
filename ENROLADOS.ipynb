{
 "cells": [
  {
   "cell_type": "code",
   "execution_count": 0,
   "metadata": {
    "application/vnd.databricks.v1+cell": {
     "cellMetadata": {
      "byteLimit": 2048000,
      "implicitDf": true,
      "rowLimit": 10000
     },
     "inputWidgets": {},
     "nuid": "73c3161f-bff1-4cb3-a8b0-f11af408cab7",
     "showTitle": false,
     "tableResultSettingsMap": {},
     "title": ""
    }
   },
   "outputs": [
    {
     "output_type": "display_data",
     "data": {
      "text/html": [
       "<style scoped>\n",
       "  .table-result-container {\n",
       "    max-height: 300px;\n",
       "    overflow: auto;\n",
       "  }\n",
       "  table, th, td {\n",
       "    border: 1px solid black;\n",
       "    border-collapse: collapse;\n",
       "  }\n",
       "  th, td {\n",
       "    padding: 5px;\n",
       "  }\n",
       "  th {\n",
       "    text-align: left;\n",
       "  }\n",
       "</style><div class='table-result-container'><table class='table-result'><thead style='background-color: white'><tr><th>MES</th><th>semana</th><th>Nuevas_sesiones</th></tr></thead><tbody><tr><td>1</td><td>01.1. (1/01 - 7/01)</td><td>1927</td></tr><tr><td>1</td><td>01.2. (8/01 - 14/01)</td><td>1701</td></tr><tr><td>1</td><td>01.3. (15/01 - 21/01)</td><td>1671</td></tr><tr><td>1</td><td>01.4. (22/01 - 28/01)</td><td>1650</td></tr><tr><td>1</td><td>01.5. (29/01 - 4/02)</td><td>1098</td></tr><tr><td>2</td><td>01.5. (29/01 - 4/02)</td><td>900</td></tr><tr><td>2</td><td>02.2. (5/02 - 11/02)</td><td>1928</td></tr><tr><td>2</td><td>02.3. (12/02 - 18/02)</td><td>1860</td></tr><tr><td>2</td><td>02.4. (19/02 - 25/02)</td><td>2197</td></tr><tr><td>2</td><td>02.5. (26/02 - 3/03)</td><td>1596</td></tr><tr><td>3</td><td>02.5. (26/02 - 3/03)</td><td>662</td></tr><tr><td>3</td><td>03.2. (4/03 - 10/03)</td><td>2198</td></tr><tr><td>3</td><td>03.3. (11/03 - 17/03)</td><td>2265</td></tr><tr><td>3</td><td>03.4. (18/03 - 24/03)</td><td>2200</td></tr><tr><td>3</td><td>03.5. (25/03 - 31/03)</td><td>2204</td></tr><tr><td>4</td><td>04.1. (1/04 - 7/04)</td><td>3056</td></tr><tr><td>4</td><td>04.2. (8/04 - 14/04)</td><td>2326</td></tr><tr><td>4</td><td>04.3. (15/04 - 21/04)</td><td>2165</td></tr><tr><td>4</td><td>04.4. (22/04 - 28/04)</td><td>2214</td></tr><tr><td>4</td><td>04.5. (29/04 - 5/05)</td><td>939</td></tr><tr><td>5</td><td>04.5. (29/04 - 5/05)</td><td>1506</td></tr><tr><td>5</td><td>05.2. (6/05 - 12/05)</td><td>2663</td></tr><tr><td>5</td><td>05.3. (13/05 - 19/05)</td><td>2410</td></tr><tr><td>5</td><td>05.4. (20/05 - 26/05)</td><td>2333</td></tr><tr><td>5</td><td>05.5. (27/05 - 2/06)</td><td>2325</td></tr><tr><td>6</td><td>05.5. (27/05 - 2/06)</td><td>486</td></tr><tr><td>6</td><td>06.2. (3/06 - 9/06)</td><td>2645</td></tr><tr><td>6</td><td>06.3. (10/06 - 16/06)</td><td>2630</td></tr><tr><td>6</td><td>06.4. (17/06 - 23/06)</td><td>2239</td></tr><tr><td>6</td><td>06.5. (24/06 - 30/06)</td><td>2304</td></tr><tr><td>7</td><td>07.1. (1/07 - 7/07)</td><td>2728</td></tr><tr><td>7</td><td>07.2. (8/07 - 14/07)</td><td>2224</td></tr><tr><td>7</td><td>07.3. (15/07 - 21/07)</td><td>2473</td></tr><tr><td>7</td><td>07.4. (22/07 - 28/07)</td><td>2422</td></tr><tr><td>7</td><td>07.5. (29/07 - 4/08)</td><td>1676</td></tr><tr><td>8</td><td>07.5. (29/07 - 4/08)</td><td>1507</td></tr><tr><td>8</td><td>08.2. (5/08 - 11/08)</td><td>2424</td></tr><tr><td>8</td><td>08.3. (12/08 - 18/08)</td><td>2402</td></tr><tr><td>8</td><td>08.4. (19/08 - 25/08)</td><td>2055</td></tr><tr><td>8</td><td>08.5. (26/08 - 1/09)</td><td>2708</td></tr><tr><td>9</td><td>08.5. (26/08 - 1/09)</td><td>91</td></tr><tr><td>9</td><td>09.1. (2/09 - 8/09)</td><td>2673</td></tr><tr><td>9</td><td>09.2. (9/09 - 15/09)</td><td>1974</td></tr><tr><td>9</td><td>09.3. (16/09 - 22/09)</td><td>2555</td></tr><tr><td>9</td><td>09.4. (23/09 - 29/09)</td><td>2446</td></tr><tr><td>9</td><td>09.5. (30/09 - 6/10)</td><td>661</td></tr><tr><td>10</td><td>09.5. (30/09 - 6/10)</td><td>2193</td></tr><tr><td>10</td><td>10.2. (7/10 - 13/10)</td><td>1906</td></tr><tr><td>10</td><td>10.3. (14/10 - 20/10)</td><td>1847</td></tr><tr><td>10</td><td>10.4. (21/10 - 27/10)</td><td>2306</td></tr><tr><td>10</td><td>10.5. (28/10 - 3/11)</td><td>4000</td></tr></tbody></table></div>"
      ]
     },
     "metadata": {
      "application/vnd.databricks.v1+output": {
       "addedWidgets": {},
       "aggData": [],
       "aggError": "",
       "aggOverflow": false,
       "aggSchema": [],
       "aggSeriesLimitReached": false,
       "aggType": "",
       "arguments": {},
       "columnCustomDisplayInfos": {},
       "data": [
        [
         1,
         "01.1. (1/01 - 7/01)",
         1927
        ],
        [
         1,
         "01.2. (8/01 - 14/01)",
         1701
        ],
        [
         1,
         "01.3. (15/01 - 21/01)",
         1671
        ],
        [
         1,
         "01.4. (22/01 - 28/01)",
         1650
        ],
        [
         1,
         "01.5. (29/01 - 4/02)",
         1098
        ],
        [
         2,
         "01.5. (29/01 - 4/02)",
         900
        ],
        [
         2,
         "02.2. (5/02 - 11/02)",
         1928
        ],
        [
         2,
         "02.3. (12/02 - 18/02)",
         1860
        ],
        [
         2,
         "02.4. (19/02 - 25/02)",
         2197
        ],
        [
         2,
         "02.5. (26/02 - 3/03)",
         1596
        ],
        [
         3,
         "02.5. (26/02 - 3/03)",
         662
        ],
        [
         3,
         "03.2. (4/03 - 10/03)",
         2198
        ],
        [
         3,
         "03.3. (11/03 - 17/03)",
         2265
        ],
        [
         3,
         "03.4. (18/03 - 24/03)",
         2200
        ],
        [
         3,
         "03.5. (25/03 - 31/03)",
         2204
        ],
        [
         4,
         "04.1. (1/04 - 7/04)",
         3056
        ],
        [
         4,
         "04.2. (8/04 - 14/04)",
         2326
        ],
        [
         4,
         "04.3. (15/04 - 21/04)",
         2165
        ],
        [
         4,
         "04.4. (22/04 - 28/04)",
         2214
        ],
        [
         4,
         "04.5. (29/04 - 5/05)",
         939
        ],
        [
         5,
         "04.5. (29/04 - 5/05)",
         1506
        ],
        [
         5,
         "05.2. (6/05 - 12/05)",
         2663
        ],
        [
         5,
         "05.3. (13/05 - 19/05)",
         2410
        ],
        [
         5,
         "05.4. (20/05 - 26/05)",
         2333
        ],
        [
         5,
         "05.5. (27/05 - 2/06)",
         2325
        ],
        [
         6,
         "05.5. (27/05 - 2/06)",
         486
        ],
        [
         6,
         "06.2. (3/06 - 9/06)",
         2645
        ],
        [
         6,
         "06.3. (10/06 - 16/06)",
         2630
        ],
        [
         6,
         "06.4. (17/06 - 23/06)",
         2239
        ],
        [
         6,
         "06.5. (24/06 - 30/06)",
         2304
        ],
        [
         7,
         "07.1. (1/07 - 7/07)",
         2728
        ],
        [
         7,
         "07.2. (8/07 - 14/07)",
         2224
        ],
        [
         7,
         "07.3. (15/07 - 21/07)",
         2473
        ],
        [
         7,
         "07.4. (22/07 - 28/07)",
         2422
        ],
        [
         7,
         "07.5. (29/07 - 4/08)",
         1676
        ],
        [
         8,
         "07.5. (29/07 - 4/08)",
         1507
        ],
        [
         8,
         "08.2. (5/08 - 11/08)",
         2424
        ],
        [
         8,
         "08.3. (12/08 - 18/08)",
         2402
        ],
        [
         8,
         "08.4. (19/08 - 25/08)",
         2055
        ],
        [
         8,
         "08.5. (26/08 - 1/09)",
         2708
        ],
        [
         9,
         "08.5. (26/08 - 1/09)",
         91
        ],
        [
         9,
         "09.1. (2/09 - 8/09)",
         2673
        ],
        [
         9,
         "09.2. (9/09 - 15/09)",
         1974
        ],
        [
         9,
         "09.3. (16/09 - 22/09)",
         2555
        ],
        [
         9,
         "09.4. (23/09 - 29/09)",
         2446
        ],
        [
         9,
         "09.5. (30/09 - 6/10)",
         661
        ],
        [
         10,
         "09.5. (30/09 - 6/10)",
         2193
        ],
        [
         10,
         "10.2. (7/10 - 13/10)",
         1906
        ],
        [
         10,
         "10.3. (14/10 - 20/10)",
         1847
        ],
        [
         10,
         "10.4. (21/10 - 27/10)",
         2306
        ],
        [
         10,
         "10.5. (28/10 - 3/11)",
         4000
        ]
       ],
       "datasetInfos": [],
       "dbfsResultPath": null,
       "isJsonSchema": true,
       "metadata": {
        "dataframeName": "_sqldf",
        "executionCount": 2
       },
       "overflow": false,
       "plotOptions": {
        "customPlotOptions": {},
        "displayType": "table",
        "pivotAggregation": null,
        "pivotColumns": null,
        "xColumns": null,
        "yColumns": null
       },
       "removedWidgets": [],
       "schema": [
        {
         "metadata": "{}",
         "name": "MES",
         "type": "\"integer\""
        },
        {
         "metadata": "{}",
         "name": "semana",
         "type": "\"string\""
        },
        {
         "metadata": "{}",
         "name": "Nuevas_sesiones",
         "type": "\"long\""
        }
       ],
       "type": "table"
      }
     },
     "output_type": "display_data"
    }
   ],
   "source": [
    "%sql\n",
    "select* from avireportscomercial.sesionesenroladasxmes\n",
    "order by semana asc , mes asc"
   ]
  }
 ],
 "metadata": {
  "application/vnd.databricks.v1+notebook": {
   "dashboards": [],
   "environmentMetadata": {
    "base_environment": "",
    "client": "1"
   },
   "language": "python",
   "notebookMetadata": {
    "mostRecentlyExecutedCommandWithImplicitDF": {
     "commandId": 3863362594183850,
     "dataframes": [
      "_sqldf"
     ]
    },
    "pythonIndentUnit": 2
   },
   "notebookName": "ENROLADOS",
   "widgets": {}
  },
  "language_info": {
   "name": "python"
  }
 },
 "nbformat": 4,
 "nbformat_minor": 0
}
