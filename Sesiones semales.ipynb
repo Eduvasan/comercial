{
 "cells": [
  {
   "cell_type": "code",
   "execution_count": 0,
   "metadata": {
    "application/vnd.databricks.v1+cell": {
     "cellMetadata": {
      "byteLimit": 2048000,
      "implicitDf": true,
      "rowLimit": 10000
     },
     "inputWidgets": {},
     "nuid": "1523a0b2-4e6b-4b77-8f38-cbf5b0bf91a6",
     "showTitle": false,
     "tableResultSettingsMap": {},
     "title": ""
    }
   },
   "outputs": [
    {
     "output_type": "display_data",
     "data": {
      "text/html": [
       "<style scoped>\n",
       "  .table-result-container {\n",
       "    max-height: 300px;\n",
       "    overflow: auto;\n",
       "  }\n",
       "  table, th, td {\n",
       "    border: 1px solid black;\n",
       "    border-collapse: collapse;\n",
       "  }\n",
       "  th, td {\n",
       "    padding: 5px;\n",
       "  }\n",
       "  th {\n",
       "    text-align: left;\n",
       "  }\n",
       "</style><div class='table-result-container'><table class='table-result'><thead style='background-color: white'><tr><th>week</th><th>count</th><th>anio</th><th>mes</th></tr></thead><tbody><tr><td>01.1. (1/01 - 7/01)</td><td>4005</td><td>2024</td><td>January</td></tr><tr><td>01.2. (8/01 - 14/01)</td><td>3623</td><td>2024</td><td>January</td></tr><tr><td>01.3. (15/01 - 21/01)</td><td>3749</td><td>2024</td><td>January</td></tr><tr><td>01.4. (22/01 - 28/01)</td><td>3708</td><td>2024</td><td>January</td></tr><tr><td>01.5. (29/01 - 4/02)</td><td>4220</td><td>2024</td><td>January</td></tr><tr><td>02.2. (5/02 - 11/02)</td><td>4464</td><td>2024</td><td>February</td></tr><tr><td>02.3. (12/02 - 18/02)</td><td>4720</td><td>2024</td><td>February</td></tr><tr><td>02.4. (19/02 - 25/02)</td><td>5711</td><td>2024</td><td>February</td></tr><tr><td>02.5. (26/02 - 3/03)</td><td>4558</td><td>2024</td><td>February</td></tr><tr><td>03.2. (4/03 - 10/03)</td><td>4547</td><td>2024</td><td>March</td></tr><tr><td>03.3. (11/03 - 17/03)</td><td>4625</td><td>2024</td><td>March</td></tr><tr><td>03.4. (18/03 - 24/03)</td><td>4495</td><td>2024</td><td>March</td></tr><tr><td>03.5. (25/03 - 31/03)</td><td>4455</td><td>2024</td><td>March</td></tr><tr><td>04.1. (1/04 - 7/04)</td><td>6623</td><td>2024</td><td>April</td></tr><tr><td>04.2. (8/04 - 14/04)</td><td>5003</td><td>2024</td><td>April</td></tr><tr><td>04.3. (15/04 - 21/04)</td><td>4743</td><td>2024</td><td>April</td></tr><tr><td>04.4. (22/04 - 28/04)</td><td>4659</td><td>2024</td><td>April</td></tr></tbody></table></div>"
      ]
     },
     "metadata": {
      "application/vnd.databricks.v1+output": {
       "addedWidgets": {},
       "aggData": [],
       "aggError": "",
       "aggOverflow": false,
       "aggSchema": [],
       "aggSeriesLimitReached": false,
       "aggType": "",
       "arguments": {},
       "columnCustomDisplayInfos": {},
       "data": [
        [
         "01.1. (1/01 - 7/01)",
         4005,
         "2024",
         "January"
        ],
        [
         "01.2. (8/01 - 14/01)",
         3623,
         "2024",
         "January"
        ],
        [
         "01.3. (15/01 - 21/01)",
         3749,
         "2024",
         "January"
        ],
        [
         "01.4. (22/01 - 28/01)",
         3708,
         "2024",
         "January"
        ],
        [
         "01.5. (29/01 - 4/02)",
         4220,
         "2024",
         "January"
        ],
        [
         "02.2. (5/02 - 11/02)",
         4464,
         "2024",
         "February"
        ],
        [
         "02.3. (12/02 - 18/02)",
         4720,
         "2024",
         "February"
        ],
        [
         "02.4. (19/02 - 25/02)",
         5711,
         "2024",
         "February"
        ],
        [
         "02.5. (26/02 - 3/03)",
         4558,
         "2024",
         "February"
        ],
        [
         "03.2. (4/03 - 10/03)",
         4547,
         "2024",
         "March"
        ],
        [
         "03.3. (11/03 - 17/03)",
         4625,
         "2024",
         "March"
        ],
        [
         "03.4. (18/03 - 24/03)",
         4495,
         "2024",
         "March"
        ],
        [
         "03.5. (25/03 - 31/03)",
         4455,
         "2024",
         "March"
        ],
        [
         "04.1. (1/04 - 7/04)",
         6623,
         "2024",
         "April"
        ],
        [
         "04.2. (8/04 - 14/04)",
         5003,
         "2024",
         "April"
        ],
        [
         "04.3. (15/04 - 21/04)",
         4743,
         "2024",
         "April"
        ],
        [
         "04.4. (22/04 - 28/04)",
         4659,
         "2024",
         "April"
        ]
       ],
       "datasetInfos": [],
       "dbfsResultPath": null,
       "isJsonSchema": true,
       "metadata": {
        "dataframeName": "_sqldf",
        "executionCount": 1
       },
       "overflow": false,
       "plotOptions": {
        "customPlotOptions": {},
        "displayType": "table",
        "pivotAggregation": null,
        "pivotColumns": null,
        "xColumns": null,
        "yColumns": null
       },
       "removedWidgets": [],
       "schema": [
        {
         "metadata": "{}",
         "name": "week",
         "type": "\"string\""
        },
        {
         "metadata": "{}",
         "name": "count",
         "type": "\"long\""
        },
        {
         "metadata": "{}",
         "name": "anio",
         "type": "\"string\""
        },
        {
         "metadata": "{}",
         "name": "mes",
         "type": "\"string\""
        }
       ],
       "type": "table"
      }
     },
     "output_type": "display_data"
    }
   ],
   "source": [
    "%sql\n",
    "REFRESH TABLE avireportscomercial.total_sesiones_semanales;\n",
    "select * from avireportscomercial.total_sesiones_semanales\n",
    "where anio = 2024"
   ]
  }
 ],
 "metadata": {
  "application/vnd.databricks.v1+notebook": {
   "dashboards": [],
   "environmentMetadata": null,
   "language": "python",
   "notebookMetadata": {
    "mostRecentlyExecutedCommandWithImplicitDF": {
     "commandId": 1290621073806420,
     "dataframes": [
      "_sqldf"
     ]
    },
    "pythonIndentUnit": 2
   },
   "notebookName": "Sesiones semales",
   "widgets": {}
  },
  "language_info": {
   "name": "python"
  }
 },
 "nbformat": 4,
 "nbformat_minor": 0
}
